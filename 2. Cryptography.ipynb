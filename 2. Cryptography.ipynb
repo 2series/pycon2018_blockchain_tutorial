{
 "cells": [
  {
   "cell_type": "markdown",
   "metadata": {},
   "source": [
    "# Overview of Cryptographic Primitives\n",
    "\n",
    "In this section we cover the basics of the cryptographic primitives that can be used for cryptocurrencies. We specially cover hashing algorithms and the asymmetric cryptography that is used for signatures."
   ]
  },
  {
   "cell_type": "markdown",
   "metadata": {},
   "source": [
    "## Hashing Algorithms"
   ]
  },
  {
   "cell_type": "markdown",
   "metadata": {},
   "source": [
    "The goal is to have a long message as input and produce an output which is much shorter called the hash or message digest. Furthermore, we want it to have certain properties.\n",
    "\n",
    "- **Input**: long message\n",
    "- **Output**: short fixed size block (called hash or message digest)\n",
    " \n",
    "*We want the same input always produces the same output (deterministic)*"
   ]
  },
  {
   "cell_type": "markdown",
   "metadata": {},
   "source": [
    "## *<font color=\" #6495ED\">Exercise</font>*\n",
    "\n",
    " - A *non* security related example of hash functions?\n",
    " - A security related example of hash functions?"
   ]
  },
  {
   "cell_type": "markdown",
   "metadata": {},
   "source": [
    "*** There is a difference between hash function and cryptographic hash functions ***"
   ]
  },
  {
   "cell_type": "markdown",
   "metadata": {},
   "source": [
    "### Desired properties\n",
    "  - Pre-image: Given a hash *h* it is computationally infeasible to find a message *m* that produces *h*\n",
    "  - Second preimage: Given message m, it is computationally infeasible to find a message m’, (m ≠ m’) such that, h(m) = h(m’)\n",
    "  - Collisions: It is computationally difficult to find any two messages m, m’ (m ≠ m’) such that, h(m) = h(m’)\n",
    "  \n",
    "\n",
    "**Examples**:\n",
    " - Recommended Hash Algorithm (SHA-2, SHA-3) by NIST\n",
    " - RIPEMD\n",
    " - <strike>SHA-1</strike>: output 160 bits being phased out (shattered.io)\n",
    " - <strike>MD2, MD4, and MD5</strike> by Ron Rivest [RFC1319, 1320, 1321]\n",
    " "
   ]
  },
  {
   "cell_type": "markdown",
   "metadata": {},
   "source": [
    "### SHA Family\n",
    "\n",
    "Secure Hash Algorithm (SHA) family, is a series of hashing algorithms. Ranging from SHA-0 to SHA-3. SHA-0 should never be used, it's advised to move from SHA-1 to SHA-2. SHA-3 is the most recent version, published in 2015.\n",
    "\n",
    " * SHA-1: Digest size (160), Block size (512)\n",
    " * SHA-2: Digest size (224, 256, 384, or 512), Block size (512, 1024)\n",
    " * SHA-3: Digest size (224, 256, 384, 512), Block size (1600)"
   ]
  },
  {
   "cell_type": "markdown",
   "metadata": {},
   "source": [
    "### RIPEMD (RACE Integrity Primitives Evaluation Message Digest)\n",
    "\n",
    "Another family of hashing functions. Based on the design principles of MD4. Bitcoin used the RIPEMD-160, the 160 bit version of the hashing family."
   ]
  },
  {
   "cell_type": "code",
   "execution_count": null,
   "metadata": {},
   "outputs": [],
   "source": [
    "from cryptography.hazmat.backends import default_backend\n",
    "from cryptography.hazmat.primitives import hashes\n",
    "import base64 # to produce human readable encoding of the bytes\n",
    "\n",
    "digest = hashes.Hash(hashes.SHA256(), backend=default_backend())\n",
    "digest.update(b\"PyCon\")\n",
    "digest.update(b\"2018\")\n",
    "msg_digest = digest.finalize()\n",
    "# Notice the output size of the digest\n",
    "print (\"msg_digest:\", len(msg_digest), len(msg_digest) * 8)\n",
    "print (\"base64 encoding:\", base64.b64encode(msg_digest))\n",
    "\n",
    "print()\n",
    "\n",
    "digest = hashes.Hash(hashes.SHA256(), backend=default_backend())\n",
    "digest.update(b\"PyCon2018\")\n",
    "msg_digest = digest.finalize()\n",
    "# Notice the output size of the digest\n",
    "print (\"msg_digest:\", len(msg_digest), len(msg_digest) * 8)\n",
    "print (\"base64 encoding:\", base64.b64encode(msg_digest))"
   ]
  },
  {
   "cell_type": "code",
   "execution_count": null,
   "metadata": {},
   "outputs": [],
   "source": [
    "import hashlib\n",
    "\n",
    "print(hashlib.algorithms_available)"
   ]
  },
  {
   "cell_type": "code",
   "execution_count": null,
   "metadata": {},
   "outputs": [],
   "source": [
    "ripemd160 = hashlib.new('ripemd160')\n",
    "ripemd160.update(b\"PyCon 2018\")\n",
    "msg_digest = ripemd160.digest()\n",
    "print (\"msg_digest:\", len(msg_digest), len(msg_digest) * 8)\n",
    "print (\"base64 encoding:\", base64.b64encode(msg_digest))"
   ]
  },
  {
   "cell_type": "markdown",
   "metadata": {},
   "source": [
    "## *<font color=\" #6495ED\">Exercise</font> *\n",
    " - Change \"PyCon2018\", to \"PyCon 2018\" and see check the result"
   ]
  },
  {
   "cell_type": "code",
   "execution_count": null,
   "metadata": {},
   "outputs": [],
   "source": [
    "## SOLUTION\n",
    "\n"
   ]
  },
  {
   "cell_type": "markdown",
   "metadata": {},
   "source": [
    "Since the hashes are random, we can predict another hash of a value based on previous outputs. Therefore, to find a specific hash we need to bruteforce all possible input values, to find our desired output. In other words, the previous work that we have done, won't help us in the future problems."
   ]
  },
  {
   "cell_type": "markdown",
   "metadata": {},
   "source": [
    "## *<font color=\" #6495ED\">Exercise</font> *\n",
    " - Find a has value that starts with two consecutive zeros ('00')\n",
    " - Plot the number of tries it takes for a hash with n zeros (n = {1,2,3,4,5}), based on the average of 5 runs."
   ]
  },
  {
   "cell_type": "code",
   "execution_count": null,
   "metadata": {},
   "outputs": [],
   "source": [
    "## SOLUTION\n",
    "\n"
   ]
  },
  {
   "cell_type": "code",
   "execution_count": null,
   "metadata": {},
   "outputs": [],
   "source": [
    "## SOLUTION\n",
    "\n"
   ]
  },
  {
   "cell_type": "code",
   "execution_count": null,
   "metadata": {},
   "outputs": [],
   "source": [
    "## SOLUTION\n",
    "\n"
   ]
  },
  {
   "cell_type": "markdown",
   "metadata": {},
   "source": [
    "## Different Hashing Algorithms\n",
    "\n",
    "Bitcoin uses SHA-256 and RIPEMD-160. However, there many are other hashing families, some of which are used by other cryptocurrencies. At the core all cryptographically secure hashing functions have the same three features that we mentioned before, some variant have extra features. For example, there are variant that are slower/faster, use more memory.\n",
    "\n",
    " - scrypt (Litecoin, Dogecoin)\n",
    " - CryptoNight (Monero)\n",
    " - X11 (DASH)"
   ]
  },
  {
   "cell_type": "markdown",
   "metadata": {},
   "source": [
    "## Asymmetric Encryption Simplified\n",
    "\n",
    "Reminder: In the asymmetric encryption schemes the parties use ***different*** keys, that are mathematically ***related*** to each other."
   ]
  },
  {
   "cell_type": "markdown",
   "metadata": {},
   "source": [
    "## *<font color=\" #6495ED\">Exercise</font>*\n",
    "\n",
    " - Why asymmetric encryption is useful?\n",
    " - Give a few examples where it can be used?"
   ]
  },
  {
   "cell_type": "markdown",
   "metadata": {},
   "source": [
    "## Elliptic-curve cryptography (ECC) \n",
    "\n",
    "An approach to public key cryptography using elliptical curves over finite fields. Believed to provide the same level of security by having smaller key size.\n",
    "\n",
    "Points on an elliptical curve over finite field that satisfy the following equation.\n",
    " \n",
    "$y^2 = x^3+a.x+b$"
   ]
  },
  {
   "cell_type": "markdown",
   "metadata": {},
   "source": [
    "### SECCP256k1\n",
    "\n",
    "Standardized by Standards for Efficient Cryptography (SEC). Became significantly popular after being used in Bitcoin. $y^2 = x^3 + 7$\n",
    " \n",
    "<img src=\"include/Secp256k1.png\" alt=\"Secp256k1\" style=\"width: 450px;\"/>\n",
    "\n",
    "source: https://en.bitcoin.it/wiki/Secp256k1"
   ]
  },
  {
   "cell_type": "markdown",
   "metadata": {},
   "source": [
    "### Digital Signature Algorithm (DSA)\n",
    "\n",
    "A signature algorithm, based on ElGamal. Private key is a large random number $x$, and public key in $y = g^x$ mod $p$.\n",
    "\n",
    "To sign a message $m$, with parameters (p, q, g):\n",
    "\n",
    " - Generate random value $k$, $1 < k < q$\n",
    " - r = $(g ^ k$ mod $p$) mod $q$\n",
    " - s = $ k ^ {-1} (H(m) + xr)$ mod $q$\n",
    " - Signature is the tuple $(r,s)$\n",
    " \n",
    "To verify a signature:\n",
    "   \n",
    "   - $w = s ^ {−1}$ mod $q$\n",
    "   - $u_1 = H (m) \\cdot w$ mod $q$\n",
    "   - $u_2 = r \\cdot w$ mod $q$\n",
    "   - $v = ( g ^ {u_1} y^{u_2}$ mod $p$ ) mod $q$\n",
    "   - $v = r$, $iff$ siganture is valid"
   ]
  },
  {
   "cell_type": "markdown",
   "metadata": {},
   "source": [
    "### Elliptic Curve Digital Signature Algorithm (ECDSA)\n",
    "\n",
    "DSA just with the EC. Replace exponentiation with scalar point multiplication (over simplification)"
   ]
  },
  {
   "cell_type": "code",
   "execution_count": null,
   "metadata": {},
   "outputs": [],
   "source": [
    "from cryptography.hazmat.backends import default_backend\n",
    "from cryptography.hazmat.primitives import hashes\n",
    "from cryptography.hazmat.primitives.asymmetric import ec\n",
    "private_key = ec.generate_private_key(ec.SECP256K1(), default_backend())\n",
    "data = b\"data to be signed\"\n",
    "signature = private_key.sign(data, ec.ECDSA(hashes.SHA256()))"
   ]
  },
  {
   "cell_type": "code",
   "execution_count": null,
   "metadata": {},
   "outputs": [],
   "source": [
    "public_key = private_key.public_key()\n",
    "public_key.verify(signature, data, ec.ECDSA(hashes.SHA256()))"
   ]
  },
  {
   "cell_type": "markdown",
   "metadata": {},
   "source": [
    "## *<font color=\" #6495ED\">Exercise</font>*\n",
    " - Change the signature to some random value\n",
    " - Change data to some random value\n",
    " - Change the hashing value"
   ]
  },
  {
   "cell_type": "code",
   "execution_count": null,
   "metadata": {},
   "outputs": [],
   "source": [
    "# SOLUTION\n"
   ]
  },
  {
   "cell_type": "code",
   "execution_count": null,
   "metadata": {},
   "outputs": [],
   "source": [
    "# SOLUTION\n"
   ]
  },
  {
   "cell_type": "code",
   "execution_count": null,
   "metadata": {},
   "outputs": [],
   "source": [
    "# SOLUTION\n"
   ]
  },
  {
   "cell_type": "code",
   "execution_count": null,
   "metadata": {},
   "outputs": [],
   "source": [
    "# SOLUTION\n"
   ]
  },
  {
   "cell_type": "code",
   "execution_count": null,
   "metadata": {},
   "outputs": [],
   "source": []
  }
 ],
 "metadata": {
  "kernelspec": {
   "display_name": "Python 3",
   "language": "python",
   "name": "python3"
  },
  "language_info": {
   "codemirror_mode": {
    "name": "ipython",
    "version": 3
   },
   "file_extension": ".py",
   "mimetype": "text/x-python",
   "name": "python",
   "nbconvert_exporter": "python",
   "pygments_lexer": "ipython3",
   "version": "3.6.5"
  }
 },
 "nbformat": 4,
 "nbformat_minor": 2
}
