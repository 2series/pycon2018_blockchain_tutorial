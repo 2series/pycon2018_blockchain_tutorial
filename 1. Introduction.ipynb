{
 "cells": [
  {
   "cell_type": "markdown",
   "metadata": {},
   "source": [
    "# Getting Started with Blockchain & Cryptocurrencies in Python (PyCon 2018)"
   ]
  },
  {
   "cell_type": "markdown",
   "metadata": {},
   "source": [
    "<img src=\"include/intro/satoshi.png\" alt=\"bitcoin paper\" style=\"width: 550px;\"/>"
   ]
  },
  {
   "cell_type": "markdown",
   "metadata": {},
   "source": [
    "## Bitcoin Like\n"
   ]
  },
  {
   "cell_type": "markdown",
   "metadata": {},
   "source": [
    "<tr>\n",
    "    <td> <img src=\"include/intro/bitcoin.png\" alt=\"bitcoin\" style=\"width: 250px;\"/> </td>\n",
    "    <td> <img src=\"include/intro/dash.png\" alt=\"dash\" style=\"width: 250px;\"/> </td>\n",
    "    <td> <img src=\"include/intro/litecoin.png\" alt=\"litecoin\" style=\"width: 250px;\"/> </td>\n",
    "    <td> <img src=\"include/intro/dogecoin.png\" alt=\"dogecoin\" style=\"width: 250px;\"/> </td>\n",
    "    <td> <img src=\"include/intro/bcash.png\" alt=\"bcash\" style=\"width: 250px;\"/> </td>\n",
    "</tr>"
   ]
  },
  {
   "cell_type": "markdown",
   "metadata": {},
   "source": [
    "---"
   ]
  },
  {
   "cell_type": "markdown",
   "metadata": {},
   "source": [
    "# Ethereum Virtual Machine"
   ]
  },
  {
   "cell_type": "markdown",
   "metadata": {},
   "source": [
    "<tr>\n",
    "    <td> <img src=\"\" alt=\"empty\" style=\"width: 200px;\"/> </td>\n",
    "    <td> <img src=\"include/intro/eth.png\" alt=\"ethereum\" style=\"width: 120px;\"/> </td>\n",
    "     <td> <img src=\"\" alt=\"empty\" style=\"width: 250px;\"/> </td>\n",
    "    <td> <img src=\"include/intro/ethc.png\" alt=\"ethereum classic\" style=\"width: 120px;\"/> </td>\n",
    "</tr>"
   ]
  },
  {
   "cell_type": "markdown",
   "metadata": {},
   "source": [
    "---"
   ]
  },
  {
   "cell_type": "markdown",
   "metadata": {},
   "source": [
    "## Privacy Focused"
   ]
  },
  {
   "cell_type": "markdown",
   "metadata": {},
   "source": [
    "<tr>\n",
    "    <td> <img src=\"\" alt=\"empty\" style=\"width: 150px;\"/> </td>\n",
    "    <td> <img src=\"include/intro/zcash.png\" alt=\"zcash\" style=\"width: 250px;\"/> </td>\n",
    "    <td> <img src=\"\" alt=\"empty\" style=\"width: 150px;\"/> </td>\n",
    "    <td> <img src=\"include/intro/monero.png\" alt=\"monero\" style=\"width: 250px;\"/> </td>\n",
    "</tr>"
   ]
  },
  {
   "cell_type": "markdown",
   "metadata": {},
   "source": [
    "---"
   ]
  },
  {
   "cell_type": "markdown",
   "metadata": {},
   "source": [
    "## Other"
   ]
  },
  {
   "cell_type": "markdown",
   "metadata": {},
   "source": [
    "<tr>\n",
    "    <td> <img src=\"\" alt=\"empty\" style=\"width: 50px;\"/> </td>\n",
    "    <td> <img src=\"include/intro/eos.png\" alt=\"eos\" style=\"width: 100px;\"/> </td>\n",
    "    <td> <img src=\"\" alt=\"empty\" style=\"width: 20px;\"/> </td>\n",
    "    <td> <img src=\"include/intro/ripple.png\" alt=\"ripple\" style=\"width: 200px;\"/> </td>\n",
    "    <td> <img src=\"\" alt=\"empty\" style=\"width: 20px;\"/> </td>\n",
    "    <td> <img src=\"include/intro/iota.png\" alt=\"iota\" style=\"width: 200px;\"/> </td>\n",
    "    <td> <img src=\"\" alt=\"empty\" style=\"width: 20px;\"/> </td>\n",
    "    <td> <img src=\"include/intro/primecoin.png\" alt=\"primecoin\" style=\"width: 150px;\"/> </td>\n",
    "</tr>"
   ]
  },
  {
   "cell_type": "markdown",
   "metadata": {},
   "source": [
    "---"
   ]
  },
  {
   "cell_type": "markdown",
   "metadata": {},
   "source": [
    "## Blockchain Everywhere"
   ]
  },
  {
   "cell_type": "markdown",
   "metadata": {},
   "source": [
    "<tr>\n",
    "    <td> <img src=\"include/intro/blockchain1.png\" alt=\"shipping\" style=\"width: 500px;\"/> </td>\n",
    "    <td> <img src=\"\" alt=\"empty\" style=\"width: 50px;\"/> </td>\n",
    "    <td> <img src=\"include/intro/blockchain2.png\" alt=\"medical\" style=\"width: 500px;\"/> </td>\n",
    "</tr>"
   ]
  },
  {
   "cell_type": "markdown",
   "metadata": {},
   "source": [
    "---"
   ]
  },
  {
   "cell_type": "markdown",
   "metadata": {},
   "source": [
    "## 1 Minute Overview"
   ]
  },
  {
   "cell_type": "markdown",
   "metadata": {},
   "source": [
    "## Blockchain/Ledger"
   ]
  },
  {
   "cell_type": "markdown",
   "metadata": {},
   "source": [
    "<img src=\"include/intro/blockchain_diagram.png\" alt=\"empty\"/>"
   ]
  },
  {
   "cell_type": "markdown",
   "metadata": {},
   "source": [
    "## Cryptocurrency"
   ]
  },
  {
   "cell_type": "markdown",
   "metadata": {},
   "source": [
    "<img src=\"include/intro/cryptocurrency_diagram.png\" alt=\"empty\"/>"
   ]
  },
  {
   "cell_type": "code",
   "execution_count": null,
   "metadata": {},
   "outputs": [],
   "source": []
  }
 ],
 "metadata": {
  "kernelspec": {
   "display_name": "Python 3",
   "language": "python",
   "name": "python3"
  },
  "language_info": {
   "codemirror_mode": {
    "name": "ipython",
    "version": 3
   },
   "file_extension": ".py",
   "mimetype": "text/x-python",
   "name": "python",
   "nbconvert_exporter": "python",
   "pygments_lexer": "ipython3",
   "version": "3.6.5"
  }
 },
 "nbformat": 4,
 "nbformat_minor": 2
}
