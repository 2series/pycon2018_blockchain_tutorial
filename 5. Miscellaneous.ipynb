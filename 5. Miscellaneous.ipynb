{
 "cells": [
  {
   "cell_type": "markdown",
   "metadata": {},
   "source": [
    "# Miscellaneous Topics"
   ]
  },
  {
   "cell_type": "markdown",
   "metadata": {},
   "source": [
    "In the following we look at some miscellaneous topics on cryptography, blockchain and cryptocurrencies.\n",
    "\n",
    "## Different Families of Hashing and Hardware\n",
    " - scrypt (Litecoin, Dogecoin)\n",
    " - CryptoNight (Monero)\n",
    " - X11 (DASH)\n",
    " \n",
    " \n",
    "## Hardware\n",
    " - Central Processing Unit (CPU)\n",
    " - Graphics Processing Unit (GPU)\n",
    " - Application-Specific Integrated Circuit (ASICs)"
   ]
  },
  {
   "cell_type": "markdown",
   "metadata": {},
   "source": [
    "<tr>\n",
    "    <td> <img src=\"\" alt=\"empty\" style=\"width: 50px;\"/> </td>\n",
    "    <td> <img src=\"include/misc/cpu.jpg\" alt=\"cpt\" style=\"width: 300px;\"/> </td>\n",
    "    <td> <img src=\"\" alt=\"empty\" style=\"width: 20px;\"/> </td>\n",
    "    <td> <img src=\"include/misc/gpu.jpg\" alt=\"gpu\" style=\"width: 400px;\"/> </td>\n",
    "    <td> <img src=\"\" alt=\"empty\" style=\"width: 20px;\"/> </td>\n",
    "    <td> <img src=\"include/misc/asic.jpg\" alt=\"asic\" style=\"width: 400px;\"/> </td>\n",
    "    <td> <img src=\"\" alt=\"empty\" style=\"width: 20px;\"/> </td>\n",
    "</tr>"
   ]
  },
  {
   "cell_type": "markdown",
   "metadata": {},
   "source": [
    "## Mining Farms\n",
    "\n",
    "\n",
    "<img src=\"include/misc/mining-farm.jpg\" alt=\"mining farm\" style=\"width: 500px;\"/> "
   ]
  },
  {
   "cell_type": "markdown",
   "metadata": {},
   "source": [
    "## Bitcoin Mining Power Comsumption\n",
    "<img src=\"include/misc/bitcoin_energy_1.png\" alt=\"energy consumption\" style=\"width: 900px;\"/>\n",
    "\n",
    "<img src=\"include/misc/bitcoin_energy_2.png\" alt=\"energy consumption\" style=\"width: 900px;\"/>\n",
    "\n",
    "source: https://digiconomist.net/bitcoin-energy-consumption"
   ]
  },
  {
   "cell_type": "markdown",
   "metadata": {},
   "source": [
    "## Alternatives to PoW\n",
    " - Proof of Stake (PoS)\n",
    " - proof of Burn"
   ]
  },
  {
   "cell_type": "markdown",
   "metadata": {},
   "source": [
    "# Bitcoin Improvement Proposals (BIP)"
   ]
  },
  {
   "cell_type": "markdown",
   "metadata": {},
   "source": [
    "A set of design document or introducing new features or information on Bitcoin. There are three tracks, the **Standard Track** introduces new features and ideas. The proposals go through review and get accepted or rejected.\n",
    "\n",
    "Most of the BIPs are very specific to Bitcoin. However, some of the proposal are more general and can be used in different context. In the following we look at and implement [BIP39](https://github.com/bitcoin/bips/blob/master/bip-0039.mediawiki), ***Mnemonic code for generating deterministic keys***\n",
    "\n",
    "[List](https://github.com/bitcoin/bips) of all BIPs is publicly available."
   ]
  },
  {
   "cell_type": "markdown",
   "metadata": {},
   "source": [
    "## BIP 39"
   ]
  },
  {
   "cell_type": "markdown",
   "metadata": {},
   "source": [
    "First create a random number (ENT), between 128-256 bits. Calculate the checksum (first ENT/32 bits of the SHA256). The number of the  mnemonic sentence (MS) words is as following:"
   ]
  },
  {
   "cell_type": "code",
   "execution_count": null,
   "metadata": {},
   "outputs": [],
   "source": [
    "#     CS = ENT / 32\n",
    "#     MS = (ENT + CS) / 11\n",
    "\n",
    "# |  ENT  | CS | ENT+CS |  MS  |\n",
    "# +-------+----+--------+------+\n",
    "# |  128  |  4 |   132  |  12  |\n",
    "# |  160  |  5 |   165  |  15  |\n",
    "# |  192  |  6 |   198  |  18  |\n",
    "# |  224  |  7 |   231  |  21  |\n",
    "# |  256  |  8 |   264  |  24  |"
   ]
  },
  {
   "cell_type": "markdown",
   "metadata": {},
   "source": [
    "Based on a word list [English](https://github.com/bitcoin/bips/blob/master/bip-0039/english.txt) dictionary we output MS words in order"
   ]
  },
  {
   "cell_type": "code",
   "execution_count": null,
   "metadata": {},
   "outputs": [],
   "source": [
    "# SOLUTION\n"
   ]
  }
 ],
 "metadata": {
  "kernelspec": {
   "display_name": "Python 3",
   "language": "python",
   "name": "python3"
  },
  "language_info": {
   "codemirror_mode": {
    "name": "ipython",
    "version": 3
   },
   "file_extension": ".py",
   "mimetype": "text/x-python",
   "name": "python",
   "nbconvert_exporter": "python",
   "pygments_lexer": "ipython3",
   "version": "3.6.5"
  }
 },
 "nbformat": 4,
 "nbformat_minor": 2
}
