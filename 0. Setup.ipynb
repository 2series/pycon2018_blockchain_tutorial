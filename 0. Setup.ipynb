{
 "cells": [
  {
   "cell_type": "markdown",
   "metadata": {},
   "source": [
    "# Setup and Configuration\n",
    "\n",
    "For this tutorial you need to have Jupter, Python3, and Cryptography library. Please run the following code segments to make sure everything is setup."
   ]
  },
  {
   "cell_type": "code",
   "execution_count": null,
   "metadata": {},
   "outputs": [],
   "source": [
    "from cryptography.hazmat.backends import default_backend\n",
    "from cryptography.hazmat.primitives import hashes\n",
    "\n",
    "digest = hashes.Hash(hashes.SHA256(), backend=default_backend())\n",
    "digest.update(b\"PyCon\")\n",
    "digest.update(b\"2018\")\n",
    "msg_digest = digest.finalize()\n",
    "assert msg_digest == b'x\\xec1\\x14\\x03>\\xee~\\x9f\\x9b\\xed=\\xfd\\xe7\\x95\\xf4\\xa6\\xa6\\xf6\\xa0pT\\x1d\\xe9,\\xa0^\\x01\\x98\\xddN\\xe5'\n",
    "print(\"OK\")"
   ]
  },
  {
   "cell_type": "code",
   "execution_count": null,
   "metadata": {},
   "outputs": [],
   "source": [
    "from cryptography.hazmat.backends import default_backend\n",
    "from cryptography.hazmat.primitives import hashes\n",
    "from cryptography.hazmat.primitives.asymmetric import ec\n",
    "private_key = ec.generate_private_key(ec.SECP256K1(), default_backend())\n",
    "data = b\"data to be signed\"\n",
    "signature = private_key.sign(data, ec.ECDSA(hashes.SHA256()))\n",
    "public_key = private_key.public_key()\n",
    "public_key.verify(signature, data, ec.ECDSA(hashes.SHA256()))\n",
    "print(\"OK\")"
   ]
  },
  {
   "cell_type": "code",
   "execution_count": null,
   "metadata": {},
   "outputs": [],
   "source": []
  }
 ],
 "metadata": {
  "kernelspec": {
   "display_name": "Python 3",
   "language": "python",
   "name": "python3"
  },
  "language_info": {
   "codemirror_mode": {
    "name": "ipython",
    "version": 3
   },
   "file_extension": ".py",
   "mimetype": "text/x-python",
   "name": "python",
   "nbconvert_exporter": "python",
   "pygments_lexer": "ipython3",
   "version": "3.6.5"
  }
 },
 "nbformat": 4,
 "nbformat_minor": 2
}
