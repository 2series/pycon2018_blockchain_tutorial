{
 "cells": [
  {
   "cell_type": "markdown",
   "metadata": {},
   "source": [
    "# Bitcoin Private Network\n",
    "\n",
    "In this section we interact with a private bitcoin network."
   ]
  },
  {
   "cell_type": "markdown",
   "metadata": {},
   "source": [
    "Three different networks:\n",
    "  - mainnet: public, real, money\n",
    "  - testnet: public\n",
    "  - regtest: private"
   ]
  },
  {
   "cell_type": "code",
   "execution_count": null,
   "metadata": {},
   "outputs": [],
   "source": [
    "%%bash\n",
    "# get blockchain info\n",
    "\n",
    "bitcoin-cli -regtest getblockchaininfo"
   ]
  },
  {
   "cell_type": "code",
   "execution_count": null,
   "metadata": {},
   "outputs": [],
   "source": [
    "%%bash\n",
    "# get balance\n",
    "\n",
    "bitcoin-cli -regtest getbalance"
   ]
  },
  {
   "cell_type": "code",
   "execution_count": null,
   "metadata": {},
   "outputs": [],
   "source": [
    "%%bash\n",
    "# generate blocks\n",
    "\n",
    "bitcoin-cli -regtest generate 100"
   ]
  },
  {
   "cell_type": "markdown",
   "metadata": {},
   "source": [
    "## Interacting with Bitcoin daemon via RPC"
   ]
  },
  {
   "cell_type": "code",
   "execution_count": null,
   "metadata": {},
   "outputs": [],
   "source": [
    "from bitcoinrpc.authproxy import AuthServiceProxy, JSONRPCException"
   ]
  },
  {
   "cell_type": "code",
   "execution_count": null,
   "metadata": {},
   "outputs": [],
   "source": [
    "# get balance\n",
    "rpc_connection = AuthServiceProxy(\"http://%s:%s@127.0.0.1:18443\"%(\"pycon\", \"pycon\"))\n",
    "rpc_connection.getbalance()"
   ]
  },
  {
   "cell_type": "code",
   "execution_count": null,
   "metadata": {},
   "outputs": [],
   "source": [
    "# create new address\n",
    "rpc_connection = AuthServiceProxy(\"http://%s:%s@127.0.0.1:18443\"%(\"pycon\", \"pycon\"))\n",
    "addr = rpc_connection.getnewaddress()\n",
    "print(addr)"
   ]
  },
  {
   "cell_type": "code",
   "execution_count": null,
   "metadata": {},
   "outputs": [],
   "source": [
    "# list unspent\n",
    "rpc_connection = AuthServiceProxy(\"http://%s:%s@127.0.0.1:18443\"%(\"pycon\", \"pycon\"))\n",
    "rpc_connection.listunspent()"
   ]
  },
  {
   "cell_type": "code",
   "execution_count": null,
   "metadata": {},
   "outputs": [],
   "source": [
    "# send money\n",
    "rpc_connection = AuthServiceProxy(\"http://%s:%s@127.0.0.1:18443\"%(\"pycon\", \"pycon\"))\n",
    "tx = rpc_connection.sendtoaddress(addr, 100)\n",
    "print(tx)"
   ]
  },
  {
   "cell_type": "code",
   "execution_count": null,
   "metadata": {},
   "outputs": [],
   "source": [
    "# send money, insufficient funds\n",
    "rpc_connection = AuthServiceProxy(\"http://%s:%s@127.0.0.1:18443\"%(\"pycon\", \"pycon\"))\n",
    "rpc_connection.sendtoaddress(addr, 10000)"
   ]
  },
  {
   "cell_type": "code",
   "execution_count": null,
   "metadata": {},
   "outputs": [],
   "source": [
    "# get transaction info\n",
    "rpc_connection = AuthServiceProxy(\"http://%s:%s@127.0.0.1:18443\"%(\"pycon\", \"pycon\"))\n",
    "rpc_connection.gettransaction(tx)"
   ]
  },
  {
   "cell_type": "code",
   "execution_count": null,
   "metadata": {},
   "outputs": [],
   "source": [
    "%%bash\n",
    "\n",
    "bitcoin-cli -regtest generate 10"
   ]
  },
  {
   "cell_type": "code",
   "execution_count": null,
   "metadata": {},
   "outputs": [],
   "source": [
    "# get transaction info\n",
    "rpc_connection = AuthServiceProxy(\"http://%s:%s@127.0.0.1:18443\"%(\"pycon\", \"pycon\"))\n",
    "rpc_connection.gettransaction(tx)"
   ]
  },
  {
   "cell_type": "code",
   "execution_count": null,
   "metadata": {},
   "outputs": [],
   "source": [
    "# get balance\n",
    "rpc_connection = AuthServiceProxy(\"http://%s:%s@127.0.0.1:18443\"%(\"pycon\", \"pycon\"))\n",
    "rpc_connection.getbalance()"
   ]
  },
  {
   "cell_type": "code",
   "execution_count": null,
   "metadata": {},
   "outputs": [],
   "source": []
  }
 ],
 "metadata": {
  "kernelspec": {
   "display_name": "Python 3",
   "language": "python",
   "name": "python3"
  },
  "language_info": {
   "codemirror_mode": {
    "name": "ipython",
    "version": 3
   },
   "file_extension": ".py",
   "mimetype": "text/x-python",
   "name": "python",
   "nbconvert_exporter": "python",
   "pygments_lexer": "ipython3",
   "version": "3.6.5"
  }
 },
 "nbformat": 4,
 "nbformat_minor": 2
}
